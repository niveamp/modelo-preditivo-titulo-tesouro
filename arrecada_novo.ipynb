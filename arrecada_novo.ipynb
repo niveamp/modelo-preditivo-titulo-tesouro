{
  "nbformat": 4,
  "nbformat_minor": 0,
  "metadata": {
    "kernelspec": {
      "display_name": "Python 3",
      "language": "python",
      "name": "python3"
    },
    "language_info": {
      "codemirror_mode": {
        "name": "ipython",
        "version": 3
      },
      "file_extension": ".py",
      "mimetype": "text/x-python",
      "name": "python",
      "nbconvert_exporter": "python",
      "pygments_lexer": "ipython3",
      "version": "3.8.5"
    },
    "colab": {
      "name": "arrecada_novo.ipynb",
      "provenance": [],
      "collapsed_sections": [
        "kbhcMg3DZJ_d"
      ],
      "toc_visible": true,
      "include_colab_link": true
    }
  },
  "cells": [
    {
      "cell_type": "markdown",
      "metadata": {
        "id": "view-in-github",
        "colab_type": "text"
      },
      "source": [
        "<a href=\"https://colab.research.google.com/github/niveamp/modelo-preditivo-titulo-tesouro/blob/main/arrecada_novo.ipynb\" target=\"_parent\"><img src=\"https://colab.research.google.com/assets/colab-badge.svg\" alt=\"Open In Colab\"/></a>"
      ]
    },
    {
      "cell_type": "markdown",
      "metadata": {
        "id": "9DaAeOYfZJ_D"
      },
      "source": [
        "# <font color='blue'>TCC BIG DATA</font>\n",
        "# <font color='blue'>Análise de série temporal de vendas do tesouro e arrecadação federal</font>\n",
        "\n",
        "## Download: http://github.com/dsacademybr"
      ]
    },
    {
      "cell_type": "code",
      "metadata": {
        "id": "KvuoOMvtZJ_E"
      },
      "source": [
        "# Versão da Linguagem Python\n",
        "from platform import python_version\n",
        "print('Versão da Linguagem Python Usada Neste Jupyter Notebook:', python_version())"
      ],
      "execution_count": null,
      "outputs": []
    },
    {
      "cell_type": "markdown",
      "metadata": {
        "id": "Mg0e8t3hZJ_F"
      },
      "source": [
        "### DADOS ABERTOS DA ARRECADAÇÃO DISPONÍVEL EM:\n",
        "https://receita.economia.gov.br/dados/receitadata/arrecadacao/analise-gerencial-da-arrecadacao-angela-1/angela-arrecadacao-por-mes-cnae-e-tributo.xlsx/view e \n",
        "### DADOS ABERTOS DO TESOURO DIRETO DISPONÍVEL EM:\n",
        "https://www.tesourotransparente.gov.br/ckan/dataset/f0468ecc-ae97-4287-89c2-6d8139fb4343/resource/e5f90e3a-8f8d-4895-9c56-4bb2f7877920/download/VendasTesouroDireto.csv"
      ]
    },
    {
      "cell_type": "markdown",
      "metadata": {
        "id": "jju9HqRjZJ_F"
      },
      "source": [
        "### Primeiro dataset com Dados histórico da arrecadação desde 2016 até 2020, por CNAE, natureza jurídica e tributo\n",
        "### Segundo dataset com dados históricos de vendas do tesouro por título desde 2002 até 2020"
      ]
    },
    {
      "cell_type": "code",
      "metadata": {
        "id": "alDt8reaZJ_G"
      },
      "source": [
        "#PARA GOOGLE COLAB\n",
        "!pip install pmdarima\n",
        "!pip install keras\n",
        "!pip install fbprophet\n",
        "!apt-get -qq install -y graphviz && pip install pydot\n",
        "!pip install html5lib"
      ],
      "execution_count": null,
      "outputs": []
    },
    {
      "cell_type": "code",
      "metadata": {
        "id": "wZV5tSrhZJ_G"
      },
      "source": [
        "%matplotlib inline\n",
        "# Importando os pacotes \n",
        "import numpy as np\n",
        "import pandas as pd\n",
        "import matplotlib as mat\n",
        "import matplotlib.pyplot as plt\n",
        "import seaborn as sns\n",
        "import colorsys\n",
        "plt.style.use('seaborn') \n",
        "\n",
        "import warnings\n",
        "warnings.filterwarnings(\"ignore\")\n",
        "%matplotlib inline\n",
        "\n",
        "#import datetime\n",
        "import math\n",
        "\n",
        "#Bibliotecas para utilização das métricas do Sklearn\n",
        "import sklearn.metrics\n",
        "from sklearn.metrics import mean_absolute_error, mean_squared_error, r2_score\n",
        "\n",
        "\n",
        "# Bibliotecas para uso do statsmodels\n",
        "import statsmodels.api as sm\n",
        "from scipy import stats\n",
        "\n",
        "#Bibliotecas para utilização do Keras\n",
        "from keras.models import Sequential\n",
        "from keras.utils import plot_model\n",
        "from keras.layers import LSTM, SimpleRNN, Dense, Dropout, Masking, Embedding\n",
        "\n",
        "\n",
        "#Bibliotecas para utilização do ARIMA\n",
        "from statsmodels.tsa.arima_model import ARIMA\n",
        "from statsmodels.tsa.stattools import adfuller\n",
        "from statsmodels.graphics.tsaplots import plot_acf, plot_pacf\n",
        "from statsmodels.tsa.seasonal import seasonal_decompose\n",
        "from pandas.plotting import lag_plot\n",
        "\n",
        "#Pacotes que exigiram instalação no anaconda com pip install\n",
        "#import pandas_profiling as pdp\n",
        "import pmdarima as pm\n",
        "\n",
        "\n",
        "#Bibliotecas para utilização do Prophet\n",
        "\n",
        "# tive que instalar com conda install -c conda-forge fbprophet\n",
        "from fbprophet import Prophet\n",
        "from fbprophet.diagnostics import cross_validation, performance_metrics\n",
        "from fbprophet.plot import plot_cross_validation_metric\n"
      ],
      "execution_count": null,
      "outputs": []
    },
    {
      "cell_type": "code",
      "metadata": {
        "id": "oHzFMmMEZJ_G"
      },
      "source": [
        "#np.__version__\n",
        "#mat.__version__\n",
        "#pd.__version__"
      ],
      "execution_count": null,
      "outputs": []
    },
    {
      "cell_type": "markdown",
      "metadata": {
        "id": "Xb6pT-WKZJ_H"
      },
      "source": [
        "# Etapa de processamento e tratamento dos dados\n",
        "Essa etapa foi revista após análise e exploração dos dados onde foram identificadas necessidade de alterar colunas, campos,..."
      ]
    },
    {
      "cell_type": "code",
      "metadata": {
        "id": "P8snP_VNZJ_H"
      },
      "source": [
        "#Carregando arquivo com dados históricos da arrecadação por mês/ano/cnae\n",
        "arrec_cnae = \"arr_cnae_tributo.xlsx\"\n",
        "\n",
        "#Carregando dados históricos de vendas do tesouro direto\n",
        "vendas_tesouro = \"VendasTesouroDireto.csv\"\n",
        "\n"
      ],
      "execution_count": null,
      "outputs": []
    },
    {
      "cell_type": "code",
      "metadata": {
        "id": "fuc-Qv1_ZJ_H"
      },
      "source": [
        "#Carregando o arquivo .xsls no dataset\n",
        "dfc = pd.read_excel(arrec_cnae, dtype = None)"
      ],
      "execution_count": null,
      "outputs": []
    },
    {
      "cell_type": "code",
      "metadata": {
        "id": "3AFmyU0BZJ_I"
      },
      "source": [
        "# Carregando o arquivo .csv\n",
        "dft = pd.read_csv(vendas_tesouro, sep = ';', dtype=None, low_memory=False)"
      ],
      "execution_count": null,
      "outputs": []
    },
    {
      "cell_type": "code",
      "metadata": {
        "id": "cHS90WlbstyK"
      },
      "source": [
        "#Carregando dados históricos Pib\r\n",
        "#lpib= pd.read_html('http://www.ipeadata.gov.br/ExibeSerie.aspx?serid=521274780&module=M')"
      ],
      "execution_count": null,
      "outputs": []
    },
    {
      "cell_type": "markdown",
      "metadata": {
        "id": "l4F7CuRaZJ_I"
      },
      "source": [
        "# Análise Exploratória de Dados\n"
      ]
    },
    {
      "cell_type": "code",
      "metadata": {
        "id": "q2QPr4dVZJ_I"
      },
      "source": [
        "#Visualização do dataset\n",
        "dfc"
      ],
      "execution_count": null,
      "outputs": []
    },
    {
      "cell_type": "code",
      "metadata": {
        "id": "RVbIAOTUZJ_I"
      },
      "source": [
        "#Identificando campos nulos e tipos de dados. \n",
        "dfc.info()"
      ],
      "execution_count": null,
      "outputs": []
    },
    {
      "cell_type": "code",
      "metadata": {
        "id": "OeFFVTmMZJ_J"
      },
      "source": [
        "#Substitui string dos meses por numeração sequencial\n",
        "meses = {'Jan': 1, 'Fev': 2,'Mar':3, 'Abr':4, 'Mai':5,'Jun':6,'Jul':7,'Ago':8,'Set':9,'Out':10,'Nov':11,'Dez':12}\n",
        "dfc = dfc.replace(meses)"
      ],
      "execution_count": null,
      "outputs": []
    },
    {
      "cell_type": "code",
      "metadata": {
        "id": "9OVtsGWAZJ_J"
      },
      "source": [
        "#Cria campo data juntando colunas mês e ano\n",
        "dfc[\"data\"]= dfc[\"Ano\"].astype(str) + \"-\" + dfc[\"Mês\"].astype(str)"
      ],
      "execution_count": null,
      "outputs": []
    },
    {
      "cell_type": "code",
      "metadata": {
        "id": "bXDZy3a9ZJ_J"
      },
      "source": [
        "#Converte para datetime para poder gerar série\n",
        "dfc[\"data\"]=pd.to_datetime(dfc.data)\n"
      ],
      "execution_count": null,
      "outputs": []
    },
    {
      "cell_type": "code",
      "metadata": {
        "id": "68OLNBJkZJ_J"
      },
      "source": [
        "#Transforma campo data em índice\n",
        "dfc.set_index('data', inplace=True)"
      ],
      "execution_count": null,
      "outputs": []
    },
    {
      "cell_type": "code",
      "metadata": {
        "id": "85GvZCMfZJ_J"
      },
      "source": [
        "#Preenchendo missing values com 0,00\n",
        "dfc.fillna(0, inplace=True)\n",
        "dfc"
      ],
      "execution_count": null,
      "outputs": []
    },
    {
      "cell_type": "code",
      "metadata": {
        "id": "agnRMktRZJ_K"
      },
      "source": [
        "#Soma todos os tributos e armazena em total\n",
        "dfc['total'] = dfc.sum(axis=1)\n",
        "dfc"
      ],
      "execution_count": null,
      "outputs": []
    },
    {
      "cell_type": "code",
      "metadata": {
        "id": "C69LiH4cZJ_K"
      },
      "source": [
        "#Agrupa valores por data, criando df só com data e total\n",
        "dfc=pd.DataFrame(dfc.groupby(by='data')['total'].sum())\n",
        "dfc"
      ],
      "execution_count": null,
      "outputs": []
    },
    {
      "cell_type": "code",
      "metadata": {
        "id": "Do66QtcFZJ_K"
      },
      "source": [
        "#Plotagem da série histórica\n",
        "plt.figure(figsize=(20,5))\n",
        "dfc['total'].plot(label = 'Total arrecadado')\n",
        "plt.ylabel('Valor')\n",
        "plt.xlabel('Período')\n",
        "plt.title('Histórico de arrecadação tributária')\n",
        "plt.legend();"
      ],
      "execution_count": null,
      "outputs": []
    },
    {
      "cell_type": "code",
      "metadata": {
        "id": "99gj9OceZJ_L"
      },
      "source": [
        "# 1.356... e+12 significa 1 trilhão e 356 bilhões\n",
        "dfc.groupby(dfc.index.year).sum()"
      ],
      "execution_count": null,
      "outputs": []
    },
    {
      "cell_type": "code",
      "metadata": {
        "id": "4jDAbVI7ZJ_L"
      },
      "source": [
        "#Resumo estatístico\n",
        "dfc.describe()"
      ],
      "execution_count": null,
      "outputs": []
    },
    {
      "cell_type": "code",
      "metadata": {
        "id": "hTwq501MZJ_L"
      },
      "source": [
        "#Analisando tendência mensal\n",
        "dfc.groupby(dfc.index.month).sum().plot(figsize=(20,5))\n",
        "plt.ylabel('Valor')\n",
        "plt.xlabel('Período')\n",
        "plt.title('Histórico de arrecadação mensal')\n",
        "plt.xticks(dfc.index.month)#mostrar todos os meses no eixo x\n",
        "plt.legend();"
      ],
      "execution_count": null,
      "outputs": []
    },
    {
      "cell_type": "code",
      "metadata": {
        "id": "uUQwkubVZJ_L"
      },
      "source": [
        "dfc.groupby(dfc.index.month).sum()"
      ],
      "execution_count": null,
      "outputs": []
    },
    {
      "cell_type": "markdown",
      "metadata": {
        "id": "vvPeDz7oKUqy"
      },
      "source": [
        "<H3>SÉRIE HISTÓRICA DE VENDAS DO TESOURO</H3>"
      ]
    },
    {
      "cell_type": "code",
      "metadata": {
        "id": "7Mp68Ro2ZJ_M"
      },
      "source": [
        "dft"
      ],
      "execution_count": null,
      "outputs": []
    },
    {
      "cell_type": "code",
      "metadata": {
        "id": "HZJfcoFAZJ_M"
      },
      "source": [
        "#identificado que não tem nenhum campo nulo e que data e valor precisam ser convertidos\n",
        "dft.info()"
      ],
      "execution_count": null,
      "outputs": []
    },
    {
      "cell_type": "code",
      "metadata": {
        "id": "4EOQMZTWZJ_M"
      },
      "source": [
        "#Alterando nomes das colunas para facilitar \n",
        "dft.columns = ['tipo', 'dtvecto', 'dtvenda', 'pu','qtde','valor']\n",
        "dft.info()"
      ],
      "execution_count": null,
      "outputs": []
    },
    {
      "cell_type": "code",
      "metadata": {
        "id": "l7IIIAWJZJ_M"
      },
      "source": [
        "#Alterando a vírgula por ponto para poder converter valor para numérico\n",
        "v= {',': '.'}\n",
        "dft = dft.replace(v, regex=True)\n",
        "dft"
      ],
      "execution_count": null,
      "outputs": []
    },
    {
      "cell_type": "code",
      "metadata": {
        "id": "pjdC-Pl6ZJ_N"
      },
      "source": [
        "#Convertendo campo valor para numérico\n",
        "dft[\"valor\"]= pd.to_numeric(dft[\"valor\"])\n",
        "dft.info()"
      ],
      "execution_count": null,
      "outputs": []
    },
    {
      "cell_type": "code",
      "metadata": {
        "id": "rUGHFVhdZJ_N"
      },
      "source": [
        "#Converte para datetime para poder gerar série\n",
        "dft[\"dtvenda\"]=pd.to_datetime(dft.dtvenda, format='%d/%m/%Y')"
      ],
      "execution_count": null,
      "outputs": []
    },
    {
      "cell_type": "code",
      "metadata": {
        "id": "pF-MjlIGZJ_N"
      },
      "source": [
        "#Seta data como índice\n",
        "dft.set_index('dtvenda', inplace=True)"
      ],
      "execution_count": null,
      "outputs": []
    },
    {
      "cell_type": "code",
      "metadata": {
        "id": "oE1VdmXwZJ_N"
      },
      "source": [
        "#pdp.ProfileReport(dfc)"
      ],
      "execution_count": null,
      "outputs": []
    },
    {
      "cell_type": "code",
      "metadata": {
        "id": "T6WdnDzsZJ_N"
      },
      "source": [
        "#Agrupa valores por dia\n",
        "dft=pd.DataFrame(dft.groupby(by='dtvenda')['valor'].sum())\n",
        "dft"
      ],
      "execution_count": null,
      "outputs": []
    },
    {
      "cell_type": "code",
      "metadata": {
        "id": "jxsQJDv2ZJ_O"
      },
      "source": [
        "#Gráfico com vendas anuais\n",
        "dft.plot(figsize=(20,8))\n",
        "plt.ylabel('Valor')\n",
        "plt.xlabel('Período')\n",
        "plt.title('Histórico de venda ANUAL')\n",
        "#plt.legend('Valor');"
      ],
      "execution_count": null,
      "outputs": []
    },
    {
      "cell_type": "code",
      "metadata": {
        "id": "cSA-BQ90ZJ_O"
      },
      "source": [
        "# 1.356... e+12 significa 1 trilhão e 356 bilhões\n",
        "dft.groupby(dft.index.year).sum()"
      ],
      "execution_count": null,
      "outputs": []
    },
    {
      "cell_type": "code",
      "metadata": {
        "id": "e6aHLYhGZJ_O"
      },
      "source": [
        "dft.describe()"
      ],
      "execution_count": null,
      "outputs": []
    },
    {
      "cell_type": "code",
      "metadata": {
        "id": "aFRtPOcuZJ_O"
      },
      "source": [
        "#Analisando tendência mensal\n",
        "dft.groupby(dft.index.month).sum().plot(figsize=(20,5))\n",
        "plt.ylabel('Valor')\n",
        "plt.xlabel('Período')\n",
        "plt.title('Histórico de venda mensal')\n",
        "plt.xticks(dft.index.month)\n",
        "plt.legend();"
      ],
      "execution_count": null,
      "outputs": []
    },
    {
      "cell_type": "code",
      "metadata": {
        "id": "o9YqzTD_ZJ_P"
      },
      "source": [
        "dft.groupby(dft.index.month).sum()"
      ],
      "execution_count": null,
      "outputs": []
    },
    {
      "cell_type": "code",
      "metadata": {
        "id": "nPNUVahxVFqk"
      },
      "source": [
        "dft.describe()"
      ],
      "execution_count": null,
      "outputs": []
    },
    {
      "cell_type": "markdown",
      "metadata": {
        "id": "ORoTdoQYvGoH"
      },
      "source": [
        "\r\n",
        "<H2>SÉRIE HISTÓRICA DO PIB</H2>"
      ]
    },
    {
      "cell_type": "code",
      "metadata": {
        "id": "0bDBeWhl-xgm"
      },
      "source": [
        "#Bibliotecas para web scraping\r\n",
        "import urllib.request\r\n",
        "from bs4 import BeautifulSoup"
      ],
      "execution_count": null,
      "outputs": []
    },
    {
      "cell_type": "code",
      "metadata": {
        "id": "_sNO_k9f-6wc"
      },
      "source": [
        "pib = \"http://www.ipeadata.gov.br/ExibeSerie.aspx?serid=521274780&module=M\""
      ],
      "execution_count": null,
      "outputs": []
    },
    {
      "cell_type": "code",
      "metadata": {
        "id": "IO0SIoFv_Ejx"
      },
      "source": [
        "\r\n",
        "page = urllib.request.urlopen(pib)\r\n",
        "soup = BeautifulSoup(page, 'html5lib')"
      ],
      "execution_count": null,
      "outputs": []
    },
    {
      "cell_type": "code",
      "metadata": {
        "id": "vbH6Wv3K_5Bq"
      },
      "source": [
        "#Carregando só a classe de interesse\r\n",
        "table = soup.find('table', class_='dxgvControl')\r\n",
        "#print(table)"
      ],
      "execution_count": null,
      "outputs": []
    },
    {
      "cell_type": "code",
      "metadata": {
        "id": "NlLFbwJHC7uu"
      },
      "source": [
        "#gerando a lista em colunas\r\n",
        "A=[]\r\n",
        "B=[]\r\n",
        "\r\n",
        "for row in table.findAll(\"tr\"): #para tudo que estiver em <tr>\r\n",
        "    cells = row.findAll('td') #variável para encontrar <td>\r\n",
        "    if len(cells)==2: #número de colunas\r\n",
        "        A.append(cells[0].find(text=True)) #iterando sobre cada linha\r\n",
        "        B.append(cells[1].find(text=True))\r\n",
        "        "
      ],
      "execution_count": null,
      "outputs": []
    },
    {
      "cell_type": "code",
      "metadata": {
        "id": "t1CWvccdEO3z"
      },
      "source": [
        "#Salvando os dados capturados em um dataframe\r\n",
        "dfpib = pd.DataFrame()\r\n",
        "dfpib['Data']=A\r\n",
        "dfpib['PIB']=B\r\n",
        "dfpib"
      ],
      "execution_count": null,
      "outputs": []
    },
    {
      "cell_type": "code",
      "metadata": {
        "id": "eCcMd7ACljVv"
      },
      "source": [
        "dfpib.info()"
      ],
      "execution_count": null,
      "outputs": []
    },
    {
      "cell_type": "code",
      "metadata": {
        "id": "Nl456qNLvv95"
      },
      "source": [
        "#Identifica e sumariza valores nulos\r\n",
        "dfpib.isnull().sum()"
      ],
      "execution_count": null,
      "outputs": []
    },
    {
      "cell_type": "code",
      "metadata": {
        "id": "Cg3AzcRf-v6Q"
      },
      "source": [
        "#Exclui linhas com missing values\r\n",
        "dfpib.dropna(inplace=True)"
      ],
      "execution_count": null,
      "outputs": []
    },
    {
      "cell_type": "code",
      "metadata": {
        "id": "3k9z_GE_XAya"
      },
      "source": [
        "#Alterando ponto para traço para poder converter para data\r\n",
        "dfpib['Data'] = dfpib['Data'].str.replace('.','-')\r\n",
        "dfpib"
      ],
      "execution_count": null,
      "outputs": []
    },
    {
      "cell_type": "code",
      "metadata": {
        "id": "2daE7ScIKeGf"
      },
      "source": [
        "#Converte campo object para tipo data\r\n",
        "dfpib['Data'] = pd.to_datetime(dfpib.Data)\r\n",
        "dfpib"
      ],
      "execution_count": null,
      "outputs": []
    },
    {
      "cell_type": "code",
      "metadata": {
        "id": "R76Qu0Fi08yz"
      },
      "source": [
        "#Seta data como índice\r\n",
        "dfpib.set_index('Data', inplace=True)"
      ],
      "execution_count": null,
      "outputs": []
    },
    {
      "cell_type": "code",
      "metadata": {
        "id": "k1_lhbXPMFD7"
      },
      "source": [
        "#Alterando a vírgula por ponto para poder converter valor para numérico\r\n",
        "dfpib['PIB'] = dfpib['PIB'].str.replace('.','')\r\n",
        "dfpib"
      ],
      "execution_count": null,
      "outputs": []
    },
    {
      "cell_type": "code",
      "metadata": {
        "id": "d6Pw4W8ktfF2"
      },
      "source": [
        "#Trocando vírgula por ponto para poder converter \r\n",
        "dfpib['PIB'] = dfpib['PIB'].str.replace(',','.')"
      ],
      "execution_count": null,
      "outputs": []
    },
    {
      "cell_type": "code",
      "metadata": {
        "id": "1-SfHtGCLeaO"
      },
      "source": [
        "#Conversão para numérico\r\n",
        "dfpib[\"PIB\"] =pd.to_numeric(dfpib.PIB)\r\n",
        "dfpib.info()"
      ],
      "execution_count": null,
      "outputs": []
    },
    {
      "cell_type": "code",
      "metadata": {
        "id": "o4OECrPMRFq2"
      },
      "source": [
        "#Multiplicando por 1 milhão pois conforme o site, a tabela estava assim reduzida\r\n",
        "dfpib[\"PIB\"] = dfpib[\"PIB\"] * 1000000\r\n",
        "dfpib"
      ],
      "execution_count": null,
      "outputs": []
    },
    {
      "cell_type": "code",
      "metadata": {
        "id": "Es3nJ42URh-T"
      },
      "source": [
        "#Reduzir o período para os últimos 20 anos\r\n",
        "dfpib = dfpib.loc['2001-01-01':'2020-12-01']\r\n",
        "dfpib"
      ],
      "execution_count": null,
      "outputs": []
    },
    {
      "cell_type": "code",
      "metadata": {
        "id": "GLI_Uze5Uc_4"
      },
      "source": [
        "#Gráfico com evoluçaõ do PIB anual\r\n",
        "dfpib.plot(figsize=(20,8))\r\n",
        "plt.ylabel('Valor')\r\n",
        "plt.xlabel('Período')\r\n",
        "plt.title('Histórico de PIB ANUAL')\r\n",
        "plt.legend();"
      ],
      "execution_count": null,
      "outputs": []
    },
    {
      "cell_type": "code",
      "metadata": {
        "id": "n-sPg3dwaAPc"
      },
      "source": [
        "#Seleciona ano de 2020\r\n",
        "dfpib2020 = dfpib.loc['2020-01-01':'2020-12-01']"
      ],
      "execution_count": null,
      "outputs": []
    },
    {
      "cell_type": "code",
      "metadata": {
        "id": "UswhghlcX9nF"
      },
      "source": [
        "#Gráfico com evoluçaõ do PIB anual 2020\r\n",
        "dfpib2020.plot(figsize=(20,8))\r\n",
        "plt.ylabel('Valor')\r\n",
        "plt.xlabel('Mês')\r\n",
        "plt.title('Histórico de PIB 2020')\r\n",
        "plt.grid(True)\r\n",
        "plt.legend();"
      ],
      "execution_count": null,
      "outputs": []
    },
    {
      "cell_type": "code",
      "metadata": {
        "id": "I2CGHP3mTu3F"
      },
      "source": [
        "#Valor PIB ano a ano\r\n",
        "dfpib.groupby(dfpib.index.year).sum()"
      ],
      "execution_count": null,
      "outputs": []
    },
    {
      "cell_type": "code",
      "metadata": {
        "id": "eyEbzO5EWJ5M"
      },
      "source": [
        "dfpib.describe()"
      ],
      "execution_count": null,
      "outputs": []
    },
    {
      "cell_type": "code",
      "metadata": {
        "id": "xgvLVzVIV3QO"
      },
      "source": [
        "#Analisando tendência mensal\r\n",
        "dfpib.groupby(dfpib.index.month).sum().plot(figsize=(20,5))\r\n",
        "plt.ylabel('Valor')\r\n",
        "plt.xlabel('Mês')\r\n",
        "plt.title('Histórico de PIB mensal')\r\n",
        "plt.xticks(dfpib.index.month)\r\n",
        "plt.legend();"
      ],
      "execution_count": null,
      "outputs": []
    },
    {
      "cell_type": "code",
      "metadata": {
        "id": "uRxFhClyWKWU"
      },
      "source": [
        "dfpib.groupby(dfpib.index.month).sum()"
      ],
      "execution_count": null,
      "outputs": []
    },
    {
      "cell_type": "markdown",
      "metadata": {
        "id": "Kt6hELVU1QP5"
      },
      "source": [
        "<H2> Preparando dados para análise conjunta das 3 séries</h2>\r\n"
      ]
    },
    {
      "cell_type": "code",
      "metadata": {
        "id": "xQKv093bZJ_P"
      },
      "source": [
        "#Agrupa a série por mês/ano para poder comparar com a arrecadação\n",
        "dft2= pd.DataFrame(dft.resample('M').valor.sum())\n",
        "dft2"
      ],
      "execution_count": null,
      "outputs": []
    },
    {
      "cell_type": "code",
      "metadata": {
        "id": "ZEIp-pSzZJ_P"
      },
      "source": [
        "#Seleciona mesmo período da arrecadação para comparação\n",
        "dftc = dft2.loc['2016-01-01':'2020-12-31']\n",
        "dftc.reset_index(inplace=True) #reseta o índice para dtvenda voltar a ser coluna\n",
        "dftc['dtvenda'] = pd.to_datetime(dftc[\"dtvenda\"].dt.strftime('%Y-%m')) # converte data para que todos os meses tenham dia = 1\n",
        "dftc.set_index('dtvenda', inplace=True) #Seta data como índice"
      ],
      "execution_count": null,
      "outputs": []
    },
    {
      "cell_type": "code",
      "metadata": {
        "id": "jJTB_MDuW7mc"
      },
      "source": [
        "#Seleciona mesmo período da arrecadação para comparação\r\n",
        "dfpib = dfpib.loc['2016-01-01':'2020-12-31']"
      ],
      "execution_count": null,
      "outputs": []
    },
    {
      "cell_type": "code",
      "metadata": {
        "id": "Ygta3BkTZJ_P"
      },
      "source": [
        "#Junta a série da arrecadação com vendas do tesouro\n",
        "dftc = pd.concat([dftc,dfc,dfpib], axis=1) \n",
        "dftc.columns = ['TotalTesouro', 'TotalArrecadacao', 'TotalPib'] #altera nome das colunas"
      ],
      "execution_count": null,
      "outputs": []
    },
    {
      "cell_type": "code",
      "metadata": {
        "id": "pnVzfLg7nK7B"
      },
      "source": [
        "dftc.head()"
      ],
      "execution_count": null,
      "outputs": []
    },
    {
      "cell_type": "code",
      "metadata": {
        "id": "ev1sH4xppGFP"
      },
      "source": [
        "#Gráfico normalizado    \r\n",
        "(dftc/dftc.iloc[0]*100).plot(figsize=(20,10))\r\n",
        "plt.ylabel('Valores normalizados')\r\n",
        "plt.xlabel('Período')\r\n",
        "plt.title('Comparativo de valores Arrecadação/Vendas tesouro/Pib')\r\n",
        "plt.show()"
      ],
      "execution_count": null,
      "outputs": []
    },
    {
      "cell_type": "code",
      "metadata": {
        "id": "UQPtSmPcZJ_Q"
      },
      "source": [
        "#Função para criação do mapa de correlação dos impostos\n",
        "def plot_corr(corr):\n",
        "    mask = np.zeros_like(corr, dtype=np.bool)\n",
        "    mask[np.triu_indices_from(mask, 1)] = True\n",
        "    sns.heatmap(corr, mask=mask, cmap='RdBu', square=True, linewidths=.5)\n",
        "    \n",
        "# Cálculo da correlação\n",
        "corr = dftc.corr() \n",
        "plot_corr(corr)"
      ],
      "execution_count": null,
      "outputs": []
    },
    {
      "cell_type": "code",
      "metadata": {
        "id": "Dkxf1XpOZvOd"
      },
      "source": [
        "dftc"
      ],
      "execution_count": null,
      "outputs": []
    },
    {
      "cell_type": "markdown",
      "metadata": {
        "id": "Iu4-nFwpZJ_R"
      },
      "source": [
        "## Modelos preditivos"
      ]
    },
    {
      "cell_type": "code",
      "metadata": {
        "id": "2rhRho64ZJ_R"
      },
      "source": [
        "dft"
      ],
      "execution_count": null,
      "outputs": []
    },
    {
      "cell_type": "code",
      "metadata": {
        "id": "AqlvtKriZJ_R"
      },
      "source": [
        "#Gravei o dataframe preparado\n",
        "dft.to_csv('tesouro.csv')"
      ],
      "execution_count": null,
      "outputs": []
    },
    {
      "cell_type": "code",
      "metadata": {
        "id": "sCtlEzg0ZJ_R"
      },
      "source": [
        "#Só para teste, lê arquivo, gera index\n",
        "dft = pd.read_csv('tesouro.csv', sep = ',', dtype=None, low_memory=False, index_col=[\"dtvenda\"])\n",
        "dft.info()"
      ],
      "execution_count": null,
      "outputs": []
    },
    {
      "cell_type": "code",
      "metadata": {
        "id": "6Ru0GM-aZJ_R"
      },
      "source": [
        "#Separando dados de treino e teste\n",
        "dft_treino = dft.loc['2015-01-01':'2019-12-31']\n",
        "dft_teste = dft.loc['2020-01-01':'2020-12-31']"
      ],
      "execution_count": null,
      "outputs": []
    },
    {
      "cell_type": "code",
      "metadata": {
        "id": "ymCBp25pZJ_S"
      },
      "source": [
        "dft_teste.info()"
      ],
      "execution_count": null,
      "outputs": []
    },
    {
      "cell_type": "markdown",
      "metadata": {
        "id": "C3cin6BlZJ_S"
      },
      "source": [
        "## Modelo auto-arima"
      ]
    },
    {
      "cell_type": "code",
      "metadata": {
        "id": "TYHK-MRgZJ_S"
      },
      "source": [
        "#Carregamento dos dados, teatando novo dataset tesouro\n",
        "dft_treino_arima = dft_treino\n",
        "dft_teste_arima = dft_teste"
      ],
      "execution_count": null,
      "outputs": []
    },
    {
      "cell_type": "code",
      "metadata": {
        "id": "TIGOlP02ZJ_S"
      },
      "source": [
        "#Decomposição da série temporal\n",
        "decomposition = seasonal_decompose(dft_treino_arima, model='multiplicative', period=30)\n",
        "trend = decomposition.trend\n",
        "seasonal = decomposition.seasonal\n",
        "residual = decomposition.resid\n",
        "plt.figure(figsize=(16,10))\n",
        "plt.subplot(411)\n",
        "plt.plot(dft_treino_arima)\n",
        "plt.ylabel('Original')\n",
        "plt.subplot(412)\n",
        "plt.plot(trend)\n",
        "plt.ylabel('Trend')\n",
        "plt.subplot(413)\n",
        "plt.plot(seasonal)\n",
        "plt.ylabel('Seasonality')\n",
        "plt.subplot(414)\n",
        "plt.plot(residual)\n",
        "plt.ylabel('Residuals')\n",
        "plt.tight_layout()\n",
        "plt.show()"
      ],
      "execution_count": null,
      "outputs": []
    },
    {
      "cell_type": "code",
      "metadata": {
        "id": "WqSaztYPZJ_S"
      },
      "source": [
        "#Plotagem da Autocorrelação\n",
        "#fig, axes = plt.subplots(3, 2, figsize=(12, 18))\n",
        "#plt.title('Autocorrelação da arrecadação de IR')\n",
        "\n",
        "# Coordenadas dos eixos para plotagem\n",
        "#ax_idcs = [     (0, 0),     (0, 1),     (1, 0),     (1, 1),     (2, 0),     (2, 1) ]\n",
        "\n",
        "#for lag, ax_coords in enumerate(ax_idcs, 1):\n",
        " #   ax_row, ax_col = ax_coords\n",
        "  #  axis = axes[ax_row][ax_col]\n",
        "   # lag_plot(dfc_treino_arima[\"total\"], lag=lag, ax=axis)\n",
        "    #axis.set_title(f\"Lag={lag}\")\n",
        "\n",
        "#plt.show()"
      ],
      "execution_count": null,
      "outputs": []
    },
    {
      "cell_type": "markdown",
      "metadata": {
        "id": "-nM-FQUGZJ_T"
      },
      "source": [
        "Dickey-Fuller teste: esse é um dos testes estatísticos para verificar Estacionaridade. Aqui, a hipótese nula é que o TS é não-estacionária. Os resultados do teste são compostos por uma estatística de teste e alguns valores críticos para os níveis de confiança da diferença. Se o ‘teste estatístico’ é menor do que o “valor crítico”, podemos rejeitar a hipótese nula e dizer que a série é estacionária"
      ]
    },
    {
      "cell_type": "code",
      "metadata": {
        "id": "I7ne8X-pZJ_T"
      },
      "source": [
        "#Função para verificar a estacionariedade \n",
        "#Valor p mostra se série é estacionária ou não, abaixo de 0.05 ´estacionária.\n",
        "#P é menor que 0.05 e O valor de teste é menor que todos os vlres críticos, portanto é estacionária\n",
        "def adf_test(y):\n",
        "    print('Resultado do Teste Dickey-Fuller:')\n",
        "    dftest = adfuller(y, autolag=\"AIC\")\n",
        "    dfoutput = pd.Series(dftest[0:4], index=['Teste','Valor p', 'Nº de lags', 'Nº de observações'])\n",
        "    for key, value in dftest[4].items():\n",
        "        dfoutput['Valor Crítico ({})'.format(key)] = value\n",
        "    print(dfoutput)\n",
        "\n",
        "adf_test(dft_treino_arima)"
      ],
      "execution_count": null,
      "outputs": []
    },
    {
      "cell_type": "code",
      "metadata": {
        "id": "c80BED6pZJ_T"
      },
      "source": [
        "#Aplicação da diferenciação\n",
        "#dfc_treino_arima_diff = dfc_treino_arima - dfc_treino_arima.shift()\n",
        "#dfc_treino_arima_diff.dropna(inplace=True)\n",
        "\n",
        "#Plotagem da diferenciação de primeira ordem da PETR4\n",
        "#plt.figure(figsize=(16,8))\n",
        "#plt.plot(dfc_treino_arima_diff)\n",
        "#plt.title('Plotagem da diferenciação da arrecadação')\n",
        "#p#lt.grid(True)"
      ],
      "execution_count": null,
      "outputs": []
    },
    {
      "cell_type": "code",
      "metadata": {
        "id": "-4jv29VOZJ_U"
      },
      "source": [
        "#Plotagem dos gráficos ACF e PACF\n",
        "#Autocorrelação é a relação de um lag(período) com o anterior, quanto mais perto de 1 maior é a correlação. Varia de 1 a -1\n",
        "#No caso, p lag 0 deu 1 porque a comparação é com ele mesmo. A área mais perto de zero indica menor correlação. \n",
        "#A área azul no gráfico representa valores não confiáveis para a análise, somente os que estão fora da área azul são confiáveis\n",
        "#Na autocorrelação um período influencia no anterior, já na parcial, ela sempre é feita em relação ao período t(0) \n",
        "\n",
        "fig, (ax1, ax2) = plt.subplots(2, 1, figsize=(8,8))\n",
        "plot_acf(dft_treino_arima, ax = ax1)\n",
        "plot_pacf(dft_treino_arima, ax = ax2)\n",
        "\n",
        "#plot_acf(dfc_treino_arima.total, lags=48)\n",
        "\n",
        "print (ax1)\n",
        "print (ax2)\n",
        "\n",
        "plt.show()\n"
      ],
      "execution_count": null,
      "outputs": []
    },
    {
      "cell_type": "code",
      "metadata": {
        "id": "e5Lnan14ZJ_U"
      },
      "source": [
        "#Definição do modelo\n",
        "modelo = pm.auto_arima(dft_treino_arima['valor'], start_p=1, start_q=1,\n",
        "                      max_p=3, max_q=3, # Máximo 'p' e 'q'\n",
        "                      m=12,              # Frequência da série\n",
        "                      d=0,           # d do arima, diferenciação\n",
        "                      stationary = True, #Estacionaridade\n",
        "                      seasonal=True, #Sazonalidade\n",
        "                      start_P=0, \n",
        "                      D=0, \n",
        "                      trace=True, #Se TRUE, a lista de modelos ARIMA considerados será reportada.\n",
        "                      error_action='ignore',  \n",
        "                      suppress_warnings=True, \n",
        "                      stepwise=False) #Se TRUE, fará a seleção gradual (mais rápido). Caso contrário, ele pesquisará todos os modelos.\n",
        "\n",
        "#Treinamento do modelo\n",
        "modelo.fit(dft_treino_arima)"
      ],
      "execution_count": null,
      "outputs": []
    },
    {
      "cell_type": "code",
      "metadata": {
        "id": "6xX0w2tKZJ_U"
      },
      "source": [
        "print(modelo.summary())"
      ],
      "execution_count": null,
      "outputs": []
    },
    {
      "cell_type": "code",
      "metadata": {
        "id": "ndWbGYjiZJ_V"
      },
      "source": [
        "n_periods=len(dft_teste_arima['valor'])\n",
        "#print(n_periods)"
      ],
      "execution_count": null,
      "outputs": []
    },
    {
      "cell_type": "code",
      "metadata": {
        "id": "U_DKDtLHZJ_V"
      },
      "source": [
        "#Faz a predição para 12 meses\n",
        "forecast_arima = modelo.predict(n_periods=len(dft_teste_arima['valor']))\n",
        "forecast_arima = pd.DataFrame(forecast_arima, index = dft_teste_arima.index,columns=['Prediction'])\n",
        "conf_int = modelo.predict(len(dft_teste_arima['valor']), return_conf_int=True, alpha = 0.05) #Pega o intervalo de confiança"
      ],
      "execution_count": null,
      "outputs": []
    },
    {
      "cell_type": "code",
      "metadata": {
        "id": "F3MSxXZVZJ_V"
      },
      "source": [
        "#Plotagem dos dados de treinamento, teste e previsão\n",
        "plt.figure(figsize=(20,10))\n",
        "plt.title('Dados de treinamento x Dados de teste x Dados previstos das vendas ')\n",
        "plt.plot(dft_treino_arima['valor'], color='green', label = 'Dados de treinamento')\n",
        "plt.plot(dft_teste_arima['valor'], color = 'blue', label = 'Dados de teste')\n",
        "plt.fill_between(dft_teste_arima.index, conf_int[1][:,0], conf_int[1][:,1], \n",
        "                 color='k', alpha=.08)\n",
        "plt.plot(forecast_arima['Prediction'], color = 'red', label = 'Dados previstos')\n",
        "plt.xlabel('Período')\n",
        "plt.ylabel('Preço de fechamento')\n",
        "plt.legend()\n",
        "#plt.grid(True)\n",
        "#plt.savefig('arima1.pdf')\n",
        "plt.show()"
      ],
      "execution_count": null,
      "outputs": []
    },
    {
      "cell_type": "code",
      "metadata": {
        "id": "6dCj7tauZJ_V"
      },
      "source": [
        "#Plotagem dos dados de teste e previsão\n",
        "plt.figure(figsize=(20,8))\n",
        "plt.title('Dados de teste x Dados previstos da arrecadação')\n",
        "plt.plot(dft_teste_arima['valor'], color = 'blue', label = 'Dados de teste')\n",
        "plt.fill_between(dft_teste_arima.index, conf_int[1][:,0], conf_int[1][:,1], \n",
        "                 color='k', alpha=.08)\n",
        "plt.plot(forecast_arima['Prediction'], color = 'red', label = 'Dados previstos')\n",
        "plt.xlabel('Período')\n",
        "plt.ylabel('Preço de fechamento')\n",
        "plt.legend()\n",
        "#plt.savefig('arima2.pdf')\n",
        "plt.show()"
      ],
      "execution_count": null,
      "outputs": []
    },
    {
      "cell_type": "code",
      "metadata": {
        "id": "gczUUVb6ZJ_W"
      },
      "source": [
        "#Cálculo do erro\n",
        "#MSE= erro quadrático médio média do erro das previsões ao quadrado, qto maior pior o modelo\n",
        "#RMSE = raiz do erro quadrático médio\n",
        "#MAE = Erro absoluto médio, média das distâncias entre previsão e o real, não pune tanto outliers como os dois anteriores\n",
        "#MAPE = média do Percentual de erro médio absoluto(módulo dos negativos), quanto menor melhor\n",
        "mse = mean_squared_error(dft_teste_arima['valor'], forecast_arima['Prediction'])\n",
        "print('MSE: '+str(mse))\n",
        "mae = mean_absolute_error(dft_teste_arima['valor'], forecast_arima['Prediction'])\n",
        "print('MAE: '+str(mae))\n",
        "rmse = math.sqrt(mean_squared_error(dft_teste_arima['valor'], forecast_arima['Prediction']))\n",
        "print('RMSE: '+str(rmse))\n",
        "#mape = mean_absolute_percentage_error(dfc_teste_arima['total'], forecast_arima['Prediction'])\n",
        "#print('MAPE: '+str(mape))"
      ],
      "execution_count": null,
      "outputs": []
    },
    {
      "cell_type": "code",
      "metadata": {
        "id": "eWavOWpOZJ_W"
      },
      "source": [
        "def mean_absolute_percentage_error(y_true, y_pred): \n",
        "    y_true, y_pred = np.array(y_true), np.array(y_pred)\n",
        "    return np.mean(np.abs((y_true - y_pred) / y_true)) * 100\n",
        "mape = mean_absolute_percentage_error(dft_teste_arima['valor'], forecast_arima['Prediction'])\n",
        "mape"
      ],
      "execution_count": null,
      "outputs": []
    },
    {
      "cell_type": "code",
      "metadata": {
        "id": "9vMdbNS7ZJ_W"
      },
      "source": [
        "#nb_predict_train = modelo.predict(dfc_treino_arima)\n",
        "#print(\"Exatidão (Accuracy): {0:.4f}\".format(metrics.accuracy_score(dfc_teste_arima, forecast_arima['Prediction'])))\n",
        "#print()"
      ],
      "execution_count": null,
      "outputs": []
    },
    {
      "cell_type": "code",
      "metadata": {
        "id": "CrIvv4m4ZJ_W"
      },
      "source": [
        "#Plotagem dos resíduos\n",
        "residuals = pd.DataFrame(modelo.resid())\n",
        "residuals.plot()"
      ],
      "execution_count": null,
      "outputs": []
    },
    {
      "cell_type": "code",
      "metadata": {
        "id": "PYwoNKqVZJ_X"
      },
      "source": [
        "#Plotagem da densidade dos resíduos(erros residuais)\n",
        "residuals.plot(kind='kde')\n",
        "plt.show()\n",
        "print(residuals.describe())"
      ],
      "execution_count": null,
      "outputs": []
    },
    {
      "cell_type": "markdown",
      "metadata": {
        "id": "9C8gWpuhZJ_X"
      },
      "source": [
        "<h3>Modelo preditivo com RNN com arquitetura LSTM (Long Short Term Memory)</h3>"
      ]
    },
    {
      "cell_type": "code",
      "metadata": {
        "id": "V_42v-uCZJ_X"
      },
      "source": [
        "#Carregamento dos dados\n",
        "dft_treino_lstm = dft_treino\n",
        "dft_teste_lstm = dft_teste"
      ],
      "execution_count": null,
      "outputs": []
    },
    {
      "cell_type": "code",
      "metadata": {
        "id": "QlHyVtdXZJ_X"
      },
      "source": [
        "dft_treino_lstm"
      ],
      "execution_count": null,
      "outputs": []
    },
    {
      "cell_type": "code",
      "metadata": {
        "id": "mXhHcInaZJ_X"
      },
      "source": [
        "#Normalização dos dados, entre 0 e 1\n",
        "\n",
        "train_lstm = dft_treino_lstm.iloc[:,0:1].values# seleciona o valor\n",
        "\n",
        "from sklearn.preprocessing import MinMaxScaler\n",
        "scaler = MinMaxScaler()\n",
        "train_scaled_lstm = scaler.fit_transform(train_lstm) \n"
      ],
      "execution_count": null,
      "outputs": []
    },
    {
      "cell_type": "code",
      "metadata": {
        "id": "ydcEXa5KZJ_Y"
      },
      "source": [
        "#Criação de uma estrutura de dados com 60 timesteps e 1 saída \n",
        "timesteps = 60\n",
        "x_train_lstm = []\n",
        "y_train_lstm = []\n",
        "for i in range(timesteps, train_lstm.shape[0]):\n",
        "    x_train_lstm.append(train_scaled_lstm[i-timesteps:i, 0]) #Utilização de 60 timesteps anteriores\n",
        "    y_train_lstm.append(train_scaled_lstm[i, 0]) \n",
        "x_train_lstm, y_train_lstm = np.array(x_train_lstm), np.array(y_train_lstm)"
      ],
      "execution_count": null,
      "outputs": []
    },
    {
      "cell_type": "code",
      "metadata": {
        "id": "pqBgysBcZJ_Y"
      },
      "source": [
        "#Reshaping o dataset de treinamento \n",
        "#Sendo o segundo parâmetro como: \n",
        "       #x_train_lstm.shape[0] = batch_size, que é o número de vendas do período de treinamento\n",
        "       #x_train_lstm.shape[1] = time_step, que é o número de vendas anteriores\n",
        "       \n",
        "x_train_lstm = np.reshape(x_train_lstm, (x_train_lstm.shape[0], x_train_lstm.shape[1], 1))\n"
      ],
      "execution_count": null,
      "outputs": []
    },
    {
      "cell_type": "code",
      "metadata": {
        "id": "rijn0vOsZJ_Y"
      },
      "source": [
        "#Criação da LSTM utilizando a biblioteca Keras\n",
        "#from keras.layers import Bidirectional\n",
        "\n",
        "# Inicialização da RNN\n",
        "model_rnn = Sequential()\n",
        "\n",
        "#O parâmetro return_sequences=True indica que a rede terá mais camadas a frente\n",
        "#O parâmetro Dropout ajuda no ajuste do Overfitting\n",
        "\n",
        "# Adiciona a primeira camada LSTM com o Dropout. Units é qtde de neurônio\n",
        "model_rnn.add((LSTM(units = 128, return_sequences = True, input_shape = (x_train_lstm.shape[1], 1))))\n",
        "model_rnn.add(Dropout(0.3))\n",
        "\n",
        "# Adiciona a segunda camada LSTM com o Dropout\n",
        "model_rnn.add(LSTM(units = 128))\n",
        "model_rnn.add(Dropout(0.3))\n",
        "\n",
        "# Adiciona a camada de saída \n",
        "#model_rnn.add(Dense(1, activation='linear'))\n",
        "model_rnn.add(Dense(1, activation='relu'))\n",
        "\n",
        "\n",
        "# Compila a RNN, neste caso utilizando o otimizador 'Adam', que ajusta hiperparãmetros?\n",
        "#model_rnn.compile(optimizer = 'adam', loss = 'mean_squared_error', metrics=['mean_absolute_error'])\n",
        "model_rnn.compile(optimizer = 'adam', loss = 'mape', metrics=['msle'])\n",
        "\n",
        "# Faz o treinamento da RNN utilizando o dataset de treinamento. Épocas são quantas vezes vai iterar\n",
        "\n",
        "model_rnn.fit(x_train_lstm, y_train_lstm, epochs = 100, batch_size = 32) \n",
        "\n",
        "#Mostra o resumo do modelo\n",
        "model_rnn.summary()"
      ],
      "execution_count": null,
      "outputs": []
    },
    {
      "cell_type": "code",
      "metadata": {
        "id": "2UR1X00CZJ_Y"
      },
      "source": [
        "#Visualização do modelo tive que instalar pydot e graphviz\n",
        "plot_model(model_rnn, show_shapes=True) #Acrescente o parâmetro 'to_file='model_rnn.png' para exportar a figura"
      ],
      "execution_count": null,
      "outputs": []
    },
    {
      "cell_type": "code",
      "metadata": {
        "id": "Zen0yc31ZJ_Z"
      },
      "source": [
        "#Carregamentos dos dados de teste para fazer as predições\n",
        "test_lstm = dft_teste_lstm.iloc[:,0:1].values \n",
        "#test_lstm"
      ],
      "execution_count": null,
      "outputs": []
    },
    {
      "cell_type": "code",
      "metadata": {
        "id": "g9eZoBwOZJ_Z"
      },
      "source": [
        "# Concatena os dados de treinamento e teste, pois os preços de fechamento anteriores não estão no conjunto de teste\n",
        "combine = pd.concat((dft_treino_lstm['valor'], dft_teste_lstm['valor']), axis = 0)\n",
        "\n",
        "#print(combine)\n",
        "\n",
        "# Tratamento do conjunto de teste considerando os timesteps anteriores\n",
        "test_inputs = combine[len(combine) - len(dft_teste_lstm) - timesteps:].values\n",
        "#print(test_inputs)\n",
        "test_inputs = test_inputs.reshape(-1,1)\n",
        "\n",
        "# Normalização dos dados\n",
        "test_inputs = scaler.transform(test_inputs)"
      ],
      "execution_count": null,
      "outputs": []
    },
    {
      "cell_type": "code",
      "metadata": {
        "id": "wSNQNlLPZJ_Z"
      },
      "source": [
        "# Predição utilizando os dados de teste\n",
        "x_test_lstm = []\n",
        "for i in range(timesteps, dft_teste_lstm.shape[0]+timesteps):\n",
        "    x_test_lstm.append(test_inputs[i-timesteps:i, 0])\n",
        "x_test_lstm = np.array(x_test_lstm)\n",
        "x_test_lstm = np.reshape(x_test_lstm, (x_test_lstm.shape[0], x_test_lstm.shape[1], 1))\n",
        "predictions_lstm = model_rnn.predict(x_test_lstm)\n",
        "\n",
        "# Desnormaliza os dados\n",
        "predictions_lstm = scaler.inverse_transform(predictions_lstm)"
      ],
      "execution_count": null,
      "outputs": []
    },
    {
      "cell_type": "code",
      "metadata": {
        "id": "8dlFxIhnZJ_Z"
      },
      "source": [
        "#Plotagem dos dados de treinamento, teste e previsão\n",
        "plt.figure(figsize=(16,8))\n",
        "plt.plot(dft_treino_lstm.index, dft_treino_lstm, color='green', label = 'Dados de treinamento')\n",
        "plt.plot(dft_teste_lstm.index, test_lstm, color = 'blue', label = 'Dados de teste')\n",
        "plt.plot(dft_teste_lstm.index, predictions_lstm, color = 'red', label = 'Dados previstos')\n",
        "plt.title('Dados de treinamento x Dados de teste x Dados previstos da arrecadação')\n",
        "plt.xlabel('Período')\n",
        "plt.ylabel('Preço de fechamento')\n",
        "plt.legend()\n",
        "#plt.grid(True)\n",
        "#plt.savefig('lstm1.pdf')\n",
        "plt.show()"
      ],
      "execution_count": null,
      "outputs": []
    },
    {
      "cell_type": "code",
      "metadata": {
        "id": "Uo-NUDD4ZJ_Z"
      },
      "source": [
        "#Plotagem dos dados de teste e dados previstos\n",
        "plt.figure(figsize=(16,8))\n",
        "plt.plot(dft_teste_lstm.index, test_lstm, color = 'blue', label = 'Dados de teste')\n",
        "plt.plot(dft_teste_lstm.index, predictions_lstm, color = 'red', label = 'Dados previstos')\n",
        "plt.title('Dados previstos x Dados de teste das vendas')\n",
        "plt.xlabel('Período')\n",
        "plt.ylabel('Preço de fechamento')\n",
        "plt.legend()\n",
        "#plt.grid(True)\n",
        "#plt.savefig('lstm2.pdf')\n",
        "plt.show()"
      ],
      "execution_count": null,
      "outputs": []
    },
    {
      "cell_type": "code",
      "metadata": {
        "id": "TX57UQfZZJ_Z"
      },
      "source": [
        "#Cálculo do erro\n",
        "print('MAE: ', mean_absolute_error(test_lstm,predictions_lstm))\n",
        "print('MSE: ', mean_squared_error(test_lstm,predictions_lstm))\n",
        "print('RMSE: ', np.sqrt(mean_squared_cerror(test_lstm,predictions_lstm)))"
      ],
      "execution_count": null,
      "outputs": []
    },
    {
      "cell_type": "code",
      "metadata": {
        "id": "KwQfxlCAZJ_Z"
      },
      "source": [
        "def mean_absolute_percentage_error(y_true, y_pred): \n",
        "    y_true, y_pred = np.array(y_true), np.array(y_pred)\n",
        "    return np.mean(np.abs((y_true - y_pred) / y_true)) * 100\n",
        "mape = mean_absolute_percentage_error(test_lstm, predictions_lstm)\n",
        "mape"
      ],
      "execution_count": null,
      "outputs": []
    },
    {
      "cell_type": "code",
      "metadata": {
        "id": "_22OxZvzZJ_a"
      },
      "source": [
        "print('Nº de (Treino e teste):' + str((len(dft_treino_lstm), len(dft_teste_lstm))))"
      ],
      "execution_count": null,
      "outputs": []
    },
    {
      "cell_type": "markdown",
      "metadata": {
        "id": "7kWOiyQqZJ_b"
      },
      "source": [
        "### FACEBOOK "
      ]
    },
    {
      "cell_type": "code",
      "metadata": {
        "id": "rBJ_QiuHZJ_b"
      },
      "source": [
        "#Carregamento dos dados de treinamento e teste\n",
        "dft_treino_prophet = dft_treino\n",
        "dft_teste_prophet = dft_teste"
      ],
      "execution_count": null,
      "outputs": []
    },
    {
      "cell_type": "code",
      "metadata": {
        "id": "GJJcvNN-o7Od"
      },
      "source": [
        "dft_treino.info()"
      ],
      "execution_count": null,
      "outputs": []
    },
    {
      "cell_type": "code",
      "metadata": {
        "id": "_EUmQ8dUZJ_b"
      },
      "source": [
        "dft_treino_prophet.info()"
      ],
      "execution_count": null,
      "outputs": []
    },
    {
      "cell_type": "code",
      "metadata": {
        "id": "l4uZU9irZJ_b"
      },
      "source": [
        "dft_teste_prophet.info()"
      ],
      "execution_count": null,
      "outputs": []
    },
    {
      "cell_type": "code",
      "metadata": {
        "id": "BgPWSHusZJ_b"
      },
      "source": [
        "#Renomeia as colunas 'total' para 'y' e 'data' para 'ds' do conjunto de treinamento\n",
        "dft_treino_prophet = pd.DataFrame({\"ds\": dft_treino_prophet.index, \"y\": dft_treino_prophet.valor})\n",
        "dft_treino_prophet.reset_index(drop = True, inplace = True)\n",
        "dft_treino_prophet.info()"
      ],
      "execution_count": null,
      "outputs": []
    },
    {
      "cell_type": "code",
      "metadata": {
        "id": "_YMfPai_ZJ_c"
      },
      "source": [
        "#Renomeia as colunas 'valor' para 'y' e 'data' para 'ds' do conjunto de treinamento\n",
        "dft_teste_prophet = pd.DataFrame({\"ds_test\": dft_teste_prophet.index, \"y_test\": dft_teste_prophet.valor})\n",
        "dft_teste_prophet.reset_index(drop = True, inplace = True)\n",
        "dft_teste_prophet.info()"
      ],
      "execution_count": null,
      "outputs": []
    },
    {
      "cell_type": "code",
      "metadata": {
        "id": "_aiz-7YmZJ_c"
      },
      "source": [
        "#Utiliza a biblioteca Prophet para fazer a previsão\n",
        "#parâmetro changepoint_prior_scale ajusta a tendência\n",
        "#parâmetro seasonality_prior ajusta sazonaliadde\n",
        "#interval_width pode ser de 80% ou 95%\n",
        "from fbprophet import Prophet\n",
        "\n",
        "prophet_model = Prophet(changepoint_prior_scale=0.15, interval_width=0.95, seasonality_prior_scale=0.01, \n",
        "                        daily_seasonality=True, seasonality_mode='multiplicative')\n",
        "prophet_model.fit(dft_treino_prophet)\n"
      ],
      "execution_count": null,
      "outputs": []
    },
    {
      "cell_type": "code",
      "metadata": {
        "id": "v4z9a2QyZJ_c"
      },
      "source": [
        "#Cria datas futuras e faz a predição\n",
        "prophet_forecast = prophet_model.make_future_dataframe(periods=365, freq='D')\n",
        "prophet_forecast = prophet_model.predict(prophet_forecast)\n",
        "\n",
        "#Plotagem do gráfico de previsão\n",
        "fig = prophet_model.plot(prophet_forecast)\n",
        "ax1 = fig.gca()\n",
        "ax1.set_title(\"Previsão de vendas\", fontsize=16)\n",
        "ax1.set_xlabel(\"Período\", fontsize=12)\n",
        "ax1.set_ylabel(\"Valor\", fontsize=12)"
      ],
      "execution_count": null,
      "outputs": []
    },
    {
      "cell_type": "code",
      "metadata": {
        "id": "m1CEaBaNqqMM"
      },
      "source": [
        "#yhat é o valor predito, yhat_lower e uppersão os valres para intervalo de certeza?\r\n",
        "#prophet_forecast\r\n",
        "prophet_forecast[['ds', 'yhat', 'yhat_lower', 'yhat_upper']].tail()\r\n"
      ],
      "execution_count": null,
      "outputs": []
    },
    {
      "cell_type": "code",
      "metadata": {
        "id": "Pd7hGXvbZJ_c"
      },
      "source": [
        "#Seleciona os dados previstos apenas para o período de teste\n",
        "train_end_date = \"2019-12-31\"\n",
        "prophet_forecast = prophet_forecast[prophet_forecast['ds'] > train_end_date]\n",
        "prophet_forecast.info()"
      ],
      "execution_count": null,
      "outputs": []
    },
    {
      "cell_type": "code",
      "metadata": {
        "id": "YjfIvPdkZJ_d"
      },
      "source": [
        "#Plotagem dos componententes da previsão\n",
        "fig = prophet_model.plot_components(prophet_forecast)"
      ],
      "execution_count": null,
      "outputs": []
    },
    {
      "cell_type": "code",
      "metadata": {
        "id": "Kvs_fjYcmV2Q"
      },
      "source": [
        "#Exclusão dos fins de semana nos dados previstos\r\n",
        "prophet_forecast = prophet_forecast[prophet_forecast['ds'].dt.dayofweek < 5]\r\n",
        "\r\n",
        "#Exclusão dos feriados nos dados previstos\r\n",
        "holidays = pd.DataFrame({\r\n",
        "    'holiday': 'holiday',\r\n",
        "    'ds': pd.to_datetime(['2020-01-01','2020-02-24','2020-02-25','2020-04-10','2020-04-21','2020-05-01','2020-06-11','2020-09-07','2020-10-12','2020-11-02','2020-11-15','2020-12-25','2020-12-31']),\r\n",
        "})\r\n",
        "\r\n",
        "prophet_forecast = prophet_forecast[~prophet_forecast['ds'].isin(holidays['ds'])]\r\n",
        "prophet_forecast = prophet_forecast.dropna()\r\n"
      ],
      "execution_count": null,
      "outputs": []
    },
    {
      "cell_type": "code",
      "metadata": {
        "id": "WU9TFXQWl7my"
      },
      "source": [
        "#Converte para data\r\n",
        "prophet_forecast['ds']= pd.to_datetime(prophet_forecast['ds'])\r\n",
        "dft_teste_prophet['ds_test']= pd.to_datetime(dft_teste_prophet['ds_test'])\r\n",
        "dft_treino_prophet['ds']= pd.to_datetime(dft_treino_prophet['ds'])"
      ],
      "execution_count": null,
      "outputs": []
    },
    {
      "cell_type": "code",
      "metadata": {
        "id": "cZSiT7dIZJ_d"
      },
      "source": [
        "#Escolhe as datas ('ds' e 'ds_test') como índices\n",
        "prophet_forecast.set_index(prophet_forecast['ds'], inplace=True) \n",
        "dft_teste_prophet.set_index(dft_teste_prophet['ds_test'], inplace=True) \n",
        "dft_treino_prophet.set_index(dft_treino_prophet['ds'], inplace=True) "
      ],
      "execution_count": null,
      "outputs": []
    },
    {
      "cell_type": "code",
      "metadata": {
        "id": "n6CtgWFcZJ_d"
      },
      "source": [
        "#Plotagem do comparativo entre o preço previsto e o dataset\n",
        "n = dft_treino_prophet.shape[0]\n",
        "plt.figure(figsize=(14,8))\n",
        "plt.title('Dados de treinamento x Dados de teste x Dados previstos das vendas')\n",
        "plt.plot(dft_treino_prophet['y'], 'green', label='Dados de treinamento')\n",
        "plt.plot(dft_teste_prophet['y_test'], color = 'blue', label='Dados de teste')\n",
        "plt.plot(prophet_forecast['yhat'][-n:], color = 'red', label = 'Dados previstos')\n",
        "plt.fill_between(prophet_forecast.index[-n:], prophet_forecast['yhat_lower'][-n:], prophet_forecast['yhat_upper'][-n:], color='k', alpha=.08, label=\"Banda de variação\")\n",
        "plt.xlabel(\"Período\")\n",
        "plt.ylabel(\"Preço de fechamento\")\n",
        "plt.legend()\n",
        "plt.savefig('prophet1.pdf')\n",
        "plt.grid(True)\n",
        "\n",
        "#Plotagem do comparativo entre o preço previsto e o preço de validação\n",
        "plt.figure(figsize=(14,8))\n",
        "plt.plot(dft_teste_prophet['y_test'], color = 'blue', label='Dados de teste')\n",
        "plt.plot(prophet_forecast['yhat'], color = 'red', label = 'Dados previstos')\n",
        "plt.fill_between(prophet_forecast.index[-n:], prophet_forecast['yhat_lower'][-n:], prophet_forecast['yhat_upper'][-n:], color='k', alpha=.08, label=\"Banda de variação\")\n",
        "plt.xlabel(\"Período\")\n",
        "plt.ylabel(\"Preço de fechamento\")\n",
        "plt.legend()\n",
        "plt.grid(True)\n",
        "#plt.savefig('prophet2.pdf')\n",
        "#plt.show()"
      ],
      "execution_count": null,
      "outputs": []
    },
    {
      "cell_type": "code",
      "metadata": {
        "id": "t4bOh5sjl-Lb"
      },
      "source": [
        "#Cálculo do erro\r\n",
        "print('MAE: ', mean_absolute_error(dft_teste_prophet['y_test'],prophet_forecast['yhat']))\r\n",
        "print('MSE: ', mean_squared_error(dft_teste_prophet['y_test'],prophet_forecast['yhat']))\r\n",
        "print('RMSE: ', np.sqrt(mean_squared_error(dft_teste_prophet['y_test'],prophet_forecast['yhat'])))"
      ],
      "execution_count": null,
      "outputs": []
    },
    {
      "cell_type": "code",
      "metadata": {
        "id": "-hXmc61SmSyc"
      },
      "source": [
        "mape = mean_absolute_percentage_error(dft_teste_prophet['y_test'], prophet_forecast['yhat'])\r\n",
        "mape"
      ],
      "execution_count": null,
      "outputs": []
    },
    {
      "cell_type": "markdown",
      "metadata": {
        "id": "Ljoy8Tb8up5u"
      },
      "source": [
        "<h3>Modelo LSTM treinado utilizado nos dados futuros</h3>\r\n",
        "Este foi o modelo escolhido por ter o menor MAPE"
      ]
    },
    {
      "cell_type": "code",
      "metadata": {
        "id": "ZfgR1tffvDsu"
      },
      "source": [
        "#Só para teste, lê arquivo, gera index\r\n",
        "dft = pd.read_csv('tesouro.csv', sep = ',', dtype=None, low_memory=False, index_col=[\"dtvenda\"])\r\n",
        "futuro_teste_dft_lstm =  dft.loc['2021-01-01':'2021-03-31']"
      ],
      "execution_count": null,
      "outputs": []
    },
    {
      "cell_type": "code",
      "metadata": {
        "id": "SJQDV1JZwPfj"
      },
      "source": [
        "futuro_teste_dft_lstm.info()"
      ],
      "execution_count": null,
      "outputs": []
    },
    {
      "cell_type": "code",
      "metadata": {
        "id": "EO_Duu49wouS"
      },
      "source": [
        "# Concatena os dados de treinamento e teste, pois os preços de fechamento anteriores não estão no conjunto de teste\r\n",
        "combine = pd.concat((dft_teste_lstm[-timesteps:]['valor'], futuro_teste_dft_lstm['valor']), axis = 0)\r\n",
        "\r\n",
        "# Tratamento do conjunto de teste considerando os timesteps anteriores\r\n",
        "teste_inputs = combine[len(combine) - len(futuro_teste_dft_lstm['valor']) - timesteps:].values\r\n",
        "teste_inputs = teste_inputs.reshape(-1,1)\r\n",
        "\r\n",
        "# Normalização dos dados\r\n",
        "teste_inputs = scaler.transform(teste_inputs)"
      ],
      "execution_count": null,
      "outputs": []
    },
    {
      "cell_type": "code",
      "metadata": {
        "id": "xnLdVYzbxEo0"
      },
      "source": [
        "# Predição utilizando os dados de teste futuro\r\n",
        "x_test_lstm = []\r\n",
        "for i in range(timesteps, futuro_teste_dft_lstm.shape[0]+timesteps):\r\n",
        "    x_test_lstm.append(teste_inputs[i-timesteps:i, 0])\r\n",
        "x_test_lstm = np.array(x_test_lstm)\r\n",
        "x_test_lstm = np.reshape(x_test_lstm, (x_test_lstm.shape[0], x_test_lstm.shape[1], 1))\r\n",
        "predictions_lstm = model_rnn.predict(x_test_lstm)\r\n",
        "\r\n",
        "# Desnormaliza os dados\r\n",
        "predictions_lstm = scaler.inverse_transform(predictions_lstm)"
      ],
      "execution_count": null,
      "outputs": []
    },
    {
      "cell_type": "code",
      "metadata": {
        "id": "TM3CceCeysyc"
      },
      "source": [
        "#Plotagem dos dados da janela, dados de teste futuro e dados previstos\r\n",
        "plt.figure(figsize=(16,8))\r\n",
        "plt.plot(combine.index, combine.values, color = 'green', label = 'Dados da janela')\r\n",
        "plt.plot(futuro_teste_dft_lstm.index, futuro_teste_dft_lstm, color = 'blue', label = 'Dados de teste futuro')\r\n",
        "plt.plot(futuro_teste_dft_lstm.index, predictions_lstm, color = 'red', label = 'Dados previstos')\r\n",
        "plt.title('Dados previstos x Dados de teste futuro da PETR4')\r\n",
        "plt.xlabel('Período')\r\n",
        "plt.ylabel('Preço de fechamento')\r\n",
        "#plt.xticks(futuro_teste_dft_lstm.index.year())\r\n",
        "plt.legend()\r\n",
        "plt.grid(True)\r\n",
        "#plt.savefig('lstm3.pdf')\r\n",
        "plt.show()"
      ],
      "execution_count": null,
      "outputs": []
    },
    {
      "cell_type": "code",
      "metadata": {
        "id": "RBBVVrAMzAzg"
      },
      "source": [
        "#Plotagem dos dados de teste e dados previstos\r\n",
        "plt.figure(figsize=(16,8))\r\n",
        "plt.plot(futuro_teste_dft_lstm.index, futuro_teste_dft_lstm, color = 'blue', label = 'Dados de teste futuro')\r\n",
        "plt.plot(futuro_teste_dft_lstm.index, predictions_lstm, color = 'red', label = 'Dados previstos')\r\n",
        "plt.title('Dados previstos x Dados de teste futuro da PETR4')\r\n",
        "plt.xlabel('Período')\r\n",
        "plt.ylabel('Preço de fechamento')\r\n",
        "plt.legend()\r\n",
        "plt.grid(True)\r\n",
        "#plt.savefig('lstm4.pdf')\r\n",
        "plt.show()"
      ],
      "execution_count": null,
      "outputs": []
    },
    {
      "cell_type": "code",
      "metadata": {
        "id": "fiE_VVUs7F3f"
      },
      "source": [
        "#Cálculo do erro\r\n",
        "print('MAE: ', mean_absolute_error(futuro_teste_dft_lstm,predictions_lstm))\r\n",
        "print('MSE: ', mean_squared_error(futuro_teste_dft_lstm,predictions_lstm))\r\n",
        "print('RMSE: ', np.sqrt(mean_squared_error(futuro_teste_dft_lstm,predictions_lstm)))"
      ],
      "execution_count": null,
      "outputs": []
    },
    {
      "cell_type": "code",
      "metadata": {
        "id": "rLnSuqBa7N2c"
      },
      "source": [
        "#Calcula percentual de erro médio absoluto\r\n",
        "mape = mean_absolute_percentage_error(futuro_teste_dft_lstm, predictions_lstm)\r\n",
        "mape"
      ],
      "execution_count": null,
      "outputs": []
    },
    {
      "cell_type": "markdown",
      "metadata": {
        "id": "elffW3Sx2J4b"
      },
      "source": [
        "**FIM**"
      ]
    }
  ]
}